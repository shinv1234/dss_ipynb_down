{
 "cells": [
  {
   "cell_type": "code",
   "execution_count": 1,
   "metadata": {
    "collapsed": true
   },
   "outputs": [],
   "source": [
    "import requests\n",
    "from bs4 import BeautifulSoup\n",
    "import re"
   ]
  },
  {
   "cell_type": "code",
   "execution_count": 2,
   "metadata": {},
   "outputs": [
    {
     "name": "stderr",
     "output_type": "stream",
     "text": [
      "C:\\Users\\a\\AppData\\Local\\Programs\\Python\\Python35\\lib\\site-packages\\bs4\\__init__.py:181: UserWarning: No parser was explicitly specified, so I'm using the best available HTML parser for this system (\"html5lib\"). This usually isn't a problem, but if you run this code on another system, or in a different virtual environment, it may use a different parser and behave differently.\n",
      "\n",
      "The code that caused this warning is on line 193 of the file C:\\Users\\a\\AppData\\Local\\Programs\\Python\\Python35\\lib\\runpy.py. To get rid of this warning, change code that looks like this:\n",
      "\n",
      " BeautifulSoup([your markup])\n",
      "\n",
      "to this:\n",
      "\n",
      " BeautifulSoup([your markup], \"html5lib\")\n",
      "\n",
      "  markup_type=markup_type))\n"
     ]
    }
   ],
   "source": [
    "url = 'https://datascienceschool.net/view-notebook/661128713b654edc928ecb455a826b1d/'\n",
    "res = requests.get(url)\n",
    "soup = BeautifulSoup(res.text)"
   ]
  },
  {
   "cell_type": "code",
   "execution_count": 3,
   "metadata": {
    "collapsed": true
   },
   "outputs": [],
   "source": [
    "urls = soup.find_all('div', attrs = {'class' : \"sidenote-ref-notebook small bs-callout bs-callout-info\"})"
   ]
  },
  {
   "cell_type": "code",
   "execution_count": 4,
   "metadata": {
    "collapsed": true
   },
   "outputs": [],
   "source": [
    "downdict = dict()\n",
    "for i in urls:\n",
    "    downdict[i.get_text()] = 'https://datascienceschool.net' + i.a['href']"
   ]
  },
  {
   "cell_type": "code",
   "execution_count": 9,
   "metadata": {
    "scrolled": false
   },
   "outputs": [
    {
     "name": "stdout",
     "output_type": "stream",
     "text": [
      "정상 확률 과정과 비정상 확률 과정.ipynb https://datascienceschool.net/download-notebook/0ddd47967585403ab8b4cb60d0e420f6\n",
      "statsmodels의 Kalman Filter 클래스 소개.ipynb https://datascienceschool.net/download-notebook/c645d51f308b4047aa78e8b343a2e181\n",
      "카테고리 분포.ipynb https://datascienceschool.net/download-notebook/354eb1d0e307423697ed805df07b96a5\n",
      "QDA and LDA.ipynb https://datascienceschool.net/download-notebook/2c6a8e003219446995f3d866ac8a6fd1\n",
      "결합, 주변, 조건부 확률 밀도 함수 (파이썬 버전).ipynb https://datascienceschool.net/download-notebook/e08074f293144eeca9cc7251b5d5666c\n",
      "Theano 패키지 소개.ipynb https://datascienceschool.net/download-notebook/a7ce18eb02b54cbfa760636cc76a4640\n",
      "분류용 가상 데이터 생성 방법.ipynb https://datascienceschool.net/download-notebook/ec26c797cec646e295d737c522733b15\n",
      "베타 분포.ipynb https://datascienceschool.net/download-notebook/70a372b9c14a4e8d9d49737f0b5a3c97\n",
      "선형 회귀 모형 비교.ipynb https://datascienceschool.net/download-notebook/bfe4438b46674c68a5ba6598147a5527\n",
      "Pandas 시계열 자료 다루기.ipynb https://datascienceschool.net/download-notebook/8959673a97214e8fafdb159f254185e9\n",
      "분류(classification) 성능 평가.ipynb https://datascienceschool.net/download-notebook/731e0d2ef52c41c686ba53dcaf346f32\n",
      "데이터 사이언스 학습 안내.ipynb https://datascienceschool.net/download-notebook/18d0a33495a94396b5eb1c1253b5c16d\n",
      "Pandas 데이터 합성.ipynb https://datascienceschool.net/download-notebook/7002e92653434bc88c8c026c3449d27b\n",
      "확률의 수학적 정의.ipynb https://datascienceschool.net/download-notebook/9341c66303174eea9d35b2e4b6981ed9\n",
      "정규화 선형 회귀 (파이썬 버전).ipynb https://datascienceschool.net/download-notebook/83d5e4fff7d64cb2aecfd7e42e1ece5e\n",
      "파이썬 for 반복문 기초 1.ipynb https://datascienceschool.net/download-notebook/f50da28051c84db08a8af6c92e813888\n",
      "다항 회귀와 과최적화.ipynb https://datascienceschool.net/download-notebook/ff9458c7156c4961b012c60e5fc97301\n",
      "최적화 기초.ipynb https://datascienceschool.net/download-notebook/4642b9f187784444b8f3a8309c583007\n",
      "분산 분석 기반의 카테고리 분석.ipynb https://datascienceschool.net/download-notebook/7dda1bc9ad1c435fb309ea88f672eff9\n",
      "Scikit-Learn의 전처리 기능.ipynb https://datascienceschool.net/download-notebook/f43be7d6515b48c0beb909826993c856\n",
      "계층적 클러스터링.ipynb https://datascienceschool.net/download-notebook/094bcb7b86574711a2e8d81f26bce2f5\n",
      "교차 검증 (파이썬 버전).ipynb https://datascienceschool.net/download-notebook/266d699d748847b3a3aa7b9805b846ae\n",
      "matplotlib의 triangular grid 사용법.ipynb https://datascienceschool.net/download-notebook/5deb23973a0240beb510cc2cd3b2f43d\n",
      "누적 분포 함수와 확률 밀도 함수 (파이썬 버전).ipynb https://datascienceschool.net/download-notebook/c46ce2d2a60d48edbc7c3e6e71394c26\n",
      "파이썬 함수 기초 1.ipynb https://datascienceschool.net/download-notebook/b368c42a39634c9784e9dda0c4318543\n",
      "시각화 패키지 matplotlib 소개.ipynb https://datascienceschool.net/download-notebook/d0b1637803754bb083b5722c9f2209d0\n",
      "추천 시스템의 기초.ipynb https://datascienceschool.net/download-notebook/fcd3550f11ac4537acec8d18136f2066\n",
      "파이썬 패키지 설치하기.ipynb https://datascienceschool.net/download-notebook/ab78f919fdb84e838039c674acba5650\n",
      "GraphViz와 pydot.ipynb https://datascienceschool.net/download-notebook/583f056ecca24bf78e6850af1439a104\n",
      "커널 서포트 벡터 머신.ipynb https://datascienceschool.net/download-notebook/69278a5de79449019ad1f51a614ef87c\n",
      "상태 공간 모형의 소개.ipynb https://datascienceschool.net/download-notebook/10b88dc8f542452b882165611570d4da\n",
      "로컬 선형 추세 모형.ipynb https://datascienceschool.net/download-notebook/bc0cb7be92c14f3f8023a978d86425d3\n",
      "파이썬 패키지 사용하기.ipynb https://datascienceschool.net/download-notebook/4ed10a0ab51d41539ca2e52eed9b5a8d\n",
      "선형 회귀 분석의 기초.ipynb https://datascienceschool.net/download-notebook/58269d7f52bd49879965cdc4721da42d\n",
      "분류(classification)의 기초.ipynb https://datascienceschool.net/download-notebook/e2790743099742a396cfa4955ffc8a1f\n",
      "회귀 분석 진단.ipynb https://datascienceschool.net/download-notebook/2787ec5d30664dea850fe0a940e5c1e4\n",
      "2차 Autoregressive (AR) 모형.ipynb https://datascienceschool.net/download-notebook/f4e9ec14b4d14261bdf4a24eeaefbab7\n",
      "베르누이 확률 분포.ipynb https://datascienceschool.net/download-notebook/5e2ee247518f47a6ba2d0894b33c73a3\n",
      "편자기상관계수 함수.ipynb https://datascienceschool.net/download-notebook/8030f5931c1b4cf68a46c2a194b3a1c6\n",
      "확률론적 언어 모형.ipynb https://datascienceschool.net/download-notebook/a0c848e1e2d343d685e6077c35c4203b\n",
      "확률의 성질.ipynb https://datascienceschool.net/download-notebook/d410ba427b5f456289ca1dd64ad2b0c5\n",
      "결정론적 추세 추정.ipynb https://datascienceschool.net/download-notebook/240b62a8927043c79b5384536e42f99d\n",
      "다변수 가우시안 정규 분포.ipynb https://datascienceschool.net/download-notebook/178adb41ee8141da83f1ba467e454ee2\n",
      "파이썬의 자료형.ipynb https://datascienceschool.net/download-notebook/a55f4411a7c641eebbd377f6292eef52\n",
      "파이썬 함수 기초 2.ipynb https://datascienceschool.net/download-notebook/71f095ff7405476c9b5525357b24c0d1\n",
      "신경망 성능 개선.ipynb https://datascienceschool.net/download-notebook/f18248a467e94c6483783afc93d08af9\n",
      "베이지안 모수 추정.ipynb https://datascienceschool.net/download-notebook/ae35a40deb884cf88e85135b4b5a1130\n",
      "Python 문자열 인코딩.ipynb https://datascienceschool.net/download-notebook/250c1869eab54157827adf54c5e9f064\n",
      "K-Means 클러스터링.ipynb https://datascienceschool.net/download-notebook/2205ad8f0c5947c08696e8927b466341\n",
      "matplotlib의 여러가지 플롯.ipynb https://datascienceschool.net/download-notebook/6e71dbff254542d9b0a054a7c98b34ec\n",
      "최대 우도 추정.ipynb https://datascienceschool.net/download-notebook/864a2cc43df44531be32e3fa48769501\n",
      "확률 모형이란 (파이썬 버전).ipynb https://datascienceschool.net/download-notebook/56e7a25aad2a4539b3c31eb3eb787a54\n",
      "모형 하이퍼 파라미터 튜닝.ipynb https://datascienceschool.net/download-notebook/ff4b5d491cc34f94aea04baca86fbef8\n",
      "SciPy를 이용한 확률 분포 분석.ipynb https://datascienceschool.net/download-notebook/e6c0d4ff9f4c403c8587c7d394bc930a\n",
      "SymPy를 사용한 함수 미분.ipynb https://datascienceschool.net/download-notebook/5f5f4a966f9042efa43d711008df9c0b\n",
      "최대 우도 추정법을 이용한 ARMA 모형 모수 추정.ipynb https://datascienceschool.net/download-notebook/1a8a1c03103543168bdd43f780e7dbfe\n",
      "회귀 분석용 가상 데이터 생성 방법.ipynb https://datascienceschool.net/download-notebook/0224ae9672eb4ab789c395a2ca2335e9\n",
      "MLE 모수 추정 (파이썬 버전).ipynb https://datascienceschool.net/download-notebook/f69960ede82f47b7a72b03b40aaa452c\n",
      "데이터 분석 가이드맵.ipynb https://datascienceschool.net/download-notebook/05945b8be8574c38b451f7c92ca9d439\n",
      "백색 잡음.ipynb https://datascienceschool.net/download-notebook/6b963e771dc54f8c8cb23437274a86d6\n",
      "로지스틱 회귀 분석.ipynb https://datascienceschool.net/download-notebook/d0df94cf8dd74e8daec7983531f68dfc\n",
      "샘플 자기상관계수 함수.ipynb https://datascienceschool.net/download-notebook/12c6c314797c4c438d06e5cf4d290840\n",
      "로컬 레벨 모형.ipynb https://datascienceschool.net/download-notebook/fd4f77324884499e90be5849f9610ce9\n",
      "NumPy 난수 발생과 카운팅.ipynb https://datascienceschool.net/download-notebook/8bf41f87a08b4c44b307799577736a28\n",
      "ARIMA 모형.ipynb https://datascienceschool.net/download-notebook/ca094b6cae2142e6a35c2e62754d5cb9\n",
      "이산 시간 랜덤 워크.ipynb https://datascienceschool.net/download-notebook/999cc951faec406dba37eae7b63720e5\n",
      "Pandas 데이터 입출력.ipynb https://datascienceschool.net/download-notebook/c5ccddd6716042ee8be3e5436081778b\n",
      "파이썬 조건문 기초.ipynb https://datascienceschool.net/download-notebook/1fa1afd6176848d7874f594dec2a7bc7\n",
      "파이썬에서 반복문을 사용하여 계산하기.ipynb https://datascienceschool.net/download-notebook/6def52f325be4168bcae61a5a7e367ad\n",
      "확률론적 선형 회귀 모형 (파이썬 버전).ipynb https://datascienceschool.net/download-notebook/743cdedec523447a907b2b0abda45533\n",
      "확률 밀도 함수의 독립.ipynb https://datascienceschool.net/download-notebook/ca281bee587b42378cd73d8ae1d42b37\n",
      "도커 사용 팁 - 도커 가상 머신 완전 삭제하기.ipynb https://datascienceschool.net/download-notebook/c792824fa32443bca59ba59285c62228\n",
      "머신 러닝 관련 참고 문헌.ipynb https://datascienceschool.net/download-notebook/ffb96882876643f4864eb9aabe21dd2e\n",
      "seaborn 시각화 패키지 소개.ipynb https://datascienceschool.net/download-notebook/4c2d5ff1caab4b21a708cc662137bc65\n",
      "행렬의 성질.ipynb https://datascienceschool.net/download-notebook/d6205659aff0413797c22552947aec83\n",
      "파이썬 객체지향 프로그래밍 기초 2.ipynb https://datascienceschool.net/download-notebook/c6e304b364484f8eb383061f2c6a6ebe\n",
      "고유분해와 특이값 분해.ipynb https://datascienceschool.net/download-notebook/7fd58178d9e64be682058db7e024d8b5\n",
      "서포트 벡터 머신.ipynb https://datascienceschool.net/download-notebook/6c6d450cb2ee49558856fd924b326e00\n",
      "NLTK 자연어 처리 패키지 소개.ipynb https://datascienceschool.net/download-notebook/118731eec74b4ad3bdd2f89bab077e1b\n",
      "데이터 분석용 파이썬 패키지 소개.ipynb https://datascienceschool.net/download-notebook/b85212ea4040408e8ebd6d3495f2c91b\n",
      "statsmodels 패키지의 ARMA 모형 클래스 소개.ipynb https://datascienceschool.net/download-notebook/ac028b39585e4d0bac57d5e2f5cd5ccd\n"
     ]
    },
    {
     "name": "stdout",
     "output_type": "stream",
     "text": [
      "도커 툴박스 설치.ipynb https://datascienceschool.net/download-notebook/22cc3845d45f4dc7b27828294fce3c93\n",
      "PyDev IDE 설치 방법.ipynb https://datascienceschool.net/download-notebook/5b02e79e8bc94275af5f16f2c7aad26a\n",
      "확률 변수.ipynb https://datascienceschool.net/download-notebook/4bcfe70a64de40ec945639236b0e911d\n",
      "다차 Moving Average (MA) 모형.ipynb https://datascienceschool.net/download-notebook/64a96000aec2494a98d19bd7c26c616a\n",
      "히든 마코프 모형.ipynb https://datascienceschool.net/download-notebook/d18fae471dd5463bb5fc06d24dabfdc9\n",
      "Scikit-Learn 패키지의 소개.ipynb https://datascienceschool.net/download-notebook/293ece8b0d124fbaa4d4d52bb8f1cb42\n",
      "Pandas 고급 인덱싱.ipynb https://datascienceschool.net/download-notebook/704731b41f794b8ea00768f5b0904512\n",
      "파이썬으로 글자를 인쇄하기.ipynb https://datascienceschool.net/download-notebook/ddebe9929d4047409e16c9e6f06f1ed4\n",
      "시계열 자료와 확률 과정.ipynb https://datascienceschool.net/download-notebook/77e0ff1a3ed94d12afcc39ea3d1248d5\n",
      "파이썬을 계산기로 사용하기.ipynb https://datascienceschool.net/download-notebook/d34cda78eb5c46deaacb394a9311c061\n",
      "1차 Autoregressive (AR) 모형.ipynb https://datascienceschool.net/download-notebook/e880ecd416554dbf84db6a3e8f426b99\n",
      "도커 이미지 설치 및 실행.ipynb https://datascienceschool.net/download-notebook/03c5b5a96a614ee588a74f05c720e67c\n",
      "파이썬 설치.ipynb https://datascienceschool.net/download-notebook/5e52b7c4b5754f2585844c8d9b26cdb5\n",
      "결합 확률과 조건부 확률.ipynb https://datascienceschool.net/download-notebook/f77e7d3f59b8437181dff01a88520f09\n",
      "NumPy 배열 생성과 변형.ipynb https://datascienceschool.net/download-notebook/17608f897087478bbeac096438c716f6\n",
      "파이썬 for 반복문 기초 2.ipynb https://datascienceschool.net/download-notebook/3f4fc70d7648427e93321c65a7b2933f\n",
      "F 분포.ipynb https://datascienceschool.net/download-notebook/38dd519067f249afa6d6285591b0ee61\n",
      "행렬의 미분.ipynb https://datascienceschool.net/download-notebook/8595892721714eb68be24727b5323778\n",
      "데이터 분석의 소개.ipynb https://datascienceschool.net/download-notebook/d67e9751b6ff463582aa4cc6d4f5b5e3\n",
      "1차 Moving Average (MA) 모형.ipynb https://datascienceschool.net/download-notebook/f1b89d145ef14bca8e5b6f1800985d52\n",
      "ARMA 모형.ipynb https://datascienceschool.net/download-notebook/9cbbfed6d6f34f02a2cdaa422706be91\n",
      "파이썬으로 데이터 분포 살펴보기.ipynb https://datascienceschool.net/download-notebook/69b85ec9afb7415d8da4c8cd5e46d22e\n",
      "statsmodels 패키지 소개.ipynb https://datascienceschool.net/download-notebook/77ee0e1bb6754ad89e0da14c6d461953\n",
      "선형대수와 해석기하.ipynb https://datascienceschool.net/download-notebook/dd1680bfbaab414a8d54dc978c6e883a\n",
      "NumPy 배열의 연산.ipynb https://datascienceschool.net/download-notebook/464860bf5a5f4e139b05ccc473f1f15c\n",
      "나이브 베이즈 분류 모형.ipynb https://datascienceschool.net/download-notebook/c19b48e3c7b048668f2bb0a113bd25f7\n",
      "문서 전처리.ipynb https://datascienceschool.net/download-notebook/3e7aadbf88ed4f0d87a76f9ddc925d69\n",
      "의사 결정 나무.ipynb https://datascienceschool.net/download-notebook/16c28c8c192147bfb3d4059474209e0a\n",
      "연립방정식과 역행렬.ipynb https://datascienceschool.net/download-notebook/927d7f7972dd434ead9d294169ae7f34\n",
      "RNN 기본 구조와 Keras를 사용한 RNN 구현.ipynb https://datascienceschool.net/download-notebook/1d93b9dc6c624fbaa6af2ce9290e2479\n",
      "잔차 분석.ipynb https://datascienceschool.net/download-notebook/3ea68ac37aa846e58a8c330aad0bdbd1\n",
      "Pandas 데이터 변환.ipynb https://datascienceschool.net/download-notebook/aa62265f02fc429aa636ef343c3b1fda\n",
      "최적 정규화.ipynb https://datascienceschool.net/download-notebook/db3f627fa93e4e3bb1001de86465f783\n",
      "확률 과정 모형을 추정하는 방법.ipynb https://datascienceschool.net/download-notebook/e4b52228ac5749418d51409fdc4f9cef\n",
      "TensorFlow 패키지 소개.ipynb https://datascienceschool.net/download-notebook/5cbab09d777841f591a67928d7043f51\n",
      "분산 분석 (ANOVA).ipynb https://datascienceschool.net/download-notebook/a60e97ad90164e07ad236095ca74e657\n",
      "도커 초간단 사용법.ipynb https://datascienceschool.net/download-notebook/708e711429a646818b9dcbb581e0c10a\n",
      "다중 클래스 분류.ipynb https://datascienceschool.net/download-notebook/7a6b958e9d51451689138cca93a047d8\n",
      "모형 결합.ipynb https://datascienceschool.net/download-notebook/766fe73c5c46424ca65329a9557d0918\n",
      "확률의 의미.ipynb https://datascienceschool.net/download-notebook/9605664e26a0411b88f60e4ba9521dd9\n",
      "Pandas 피봇과 그룹 연산.ipynb https://datascienceschool.net/download-notebook/76dcd63bba2c4959af15bec41b197e7c\n",
      "벡터와 행렬의 연산.ipynb https://datascienceschool.net/download-notebook/3f44cfdda2874080a9aa6b034c71d5ec\n",
      "Pandas 인덱스 조작.ipynb https://datascienceschool.net/download-notebook/a49bde24674a46699639c1fa9bb7e213\n",
      "레버리지와 아웃라이어 (파이썬 버전).ipynb https://datascienceschool.net/download-notebook/6d9c833f132e4e789e35632b49be2c2d\n",
      "SciPy를 사용한 기초적인 검정.ipynb https://datascienceschool.net/download-notebook/14bde0cc05514b2cae2088805ef9ed52\n",
      "Pandas 패키지의 소개.ipynb https://datascienceschool.net/download-notebook/ee0a5679dd574b94b55193690992f850\n",
      "셀, 터미널, 콘솔.ipynb https://datascienceschool.net/download-notebook/26ca8377076541b2b514cd5ed97c554d\n",
      "konlpy 한국어 처리 패키지 소개.ipynb https://datascienceschool.net/download-notebook/70ce46db4ced4a999c6ec349df0f4eb0\n",
      "공분산과 상관계수.ipynb https://datascienceschool.net/download-notebook/4cab41c0d9cd4eafaff8a45f590592c5\n",
      "Scikit-Learn 패키지의 샘플 데이터 - 회귀 분석용.ipynb https://datascienceschool.net/download-notebook/4b948c4d99c94213bf02bcff2ced88eb\n",
      "엔트로피.ipynb https://datascienceschool.net/download-notebook/d3ecf5cc7027441c8509c0cae7fea088\n",
      "Dickey-Fuller 단위근 검정.ipynb https://datascienceschool.net/download-notebook/ebb638fc880145b9adeef8dfa630f067\n",
      "다항 분포.ipynb https://datascienceschool.net/download-notebook/ab191449d60542edadaae91bc12deb99\n",
      "검정과 모수 추정의 의미.ipynb https://datascienceschool.net/download-notebook/87b67dafd7544e3380af278ff4f22d77\n",
      "아들과 딸 파라독스.ipynb https://datascienceschool.net/download-notebook/e343b95bd3b740da9d966af0e6cc56a1\n",
      "웹 플롯을 위한 bokeh 패키지 소개.ipynb https://datascienceschool.net/download-notebook/b03af554a1494f159fc94d65d70fe7b2\n",
      "신경망 기초 이론.ipynb https://datascienceschool.net/download-notebook/0178802a219c4e6bb9b820b49bf57f91\n",
      "CNN.ipynb https://datascienceschool.net/download-notebook/e2d30432911f4498b873232dd7d99cce\n",
      "일반 선형 확률 과정 모형.ipynb https://datascienceschool.net/download-notebook/d5226389a8414583a45fb47e1e1cf6fb\n",
      "파이썬 객체지향 프로그래밍 기초 1.ipynb https://datascienceschool.net/download-notebook/fdbe01932ce74b7983f1862a56e32104\n",
      "Python의  날짜 및 시간 관련 패키지 소개.ipynb https://datascienceschool.net/download-notebook/465066ac92ef4da3b0aba32f76d9750a\n",
      "데이터 분석을 위한 환경 설정.ipynb https://datascienceschool.net/download-notebook/e87bcccf2b6f4c1cae18fb3fdf7ed4a8\n",
      "단어 임베딩의 원리와 gensim.word2vec 사용법.ipynb https://datascienceschool.net/download-notebook/6927b0906f884a67b0da9310d3a581ee\n",
      "모형 최적화 분산 처리.ipynb https://datascienceschool.net/download-notebook/0e9636f97c3d4b47b87a08b2ef0349b7\n",
      "카이 제곱 분포.ipynb https://datascienceschool.net/download-notebook/683cfb97b17041f3a9a0e6cbee5f1fef\n",
      "파이썬에서 여러 개의 자료를 한 변수에 담기.ipynb https://datascienceschool.net/download-notebook/b7db5062d333474ca700f1c5f63e3979\n",
      "가우시안 정규 분포 (파이썬 버전).ipynb https://datascienceschool.net/download-notebook/76acc92d28354e86940001f9fe85c50f\n",
      "NumPy를 활용한 선형대수 입문.ipynb https://datascienceschool.net/download-notebook/cd600e9627cd4f16bc4f6078231ab28c\n",
      "PCA.ipynb https://datascienceschool.net/download-notebook/f10aad8a34a4489697933f77c5d58e3a\n",
      "patsy 패키지 소개.ipynb https://datascienceschool.net/download-notebook/c642f2d81d134c9f9b6e3b88135a3393\n",
      "베이즈 정리.ipynb https://datascienceschool.net/download-notebook/f68d16df9ea448689ae66dc2140fe673\n",
      "퍼셉트론.ipynb https://datascienceschool.net/download-notebook/342b8e2ecf7a4911a727e6fe97f4ab6b\n",
      "NumPy 배열 사용하기.ipynb https://datascienceschool.net/download-notebook/35099ac4aea146c69cc4b3f50aec736f\n",
      "칼만 필터 공식의 유도.ipynb https://datascienceschool.net/download-notebook/e10476b1a68a49388eef1c140ff1d11f\n",
      "Scikit-Learn 패키지의 샘플 데이터 - classification용.ipynb https://datascienceschool.net/download-notebook/577a01e24d4f456bb5060da6e47054e1\n",
      "검정과 유의 확률 (파이썬 버전).ipynb https://datascienceschool.net/download-notebook/37a330dfc8de45e9ba475cbbd201ab53\n",
      "분포의 대표값.ipynb https://datascienceschool.net/download-notebook/dd6a7633d69f401bb00409b9ae8806e8\n",
      "ARIMA 모형 차수 결정의 예.ipynb https://datascienceschool.net/download-notebook/b39ccd2da3e64d6e91981e23e01816c4\n",
      "이항 확률 분포.ipynb https://datascienceschool.net/download-notebook/ddb0f7906b6146e09f5c1e633b4fbe3a\n",
      "도커 사용 팁 - 컨테이너의 파일 백업.ipynb https://datascienceschool.net/download-notebook/e350e85193cc44049eb4989144a094fe\n",
      "감마 분포.ipynb https://datascienceschool.net/download-notebook/1507654ffe9c4174b5d971e6f0efc84c\n",
      "Method of Moment.ipynb https://datascienceschool.net/download-notebook/d2bdfc87a7be487c96a8d946e8de3e9b\n"
     ]
    },
    {
     "name": "stdout",
     "output_type": "stream",
     "text": [
      "분산과 표준편차.ipynb https://datascienceschool.net/download-notebook/b9dcd289a49546ffacfdc5f5bc9a2fc0\n",
      "베이즈 정리와 분류 문제.ipynb https://datascienceschool.net/download-notebook/165cbb986f2c443ba7bac9ec83659b46\n",
      "파이썬에서 리스트 변수 다루기.ipynb https://datascienceschool.net/download-notebook/94281f9cd29b4e9e97ab82e5f6f07e15\n",
      "스튜던트 t 분포 (파이썬 버전).ipynb https://datascienceschool.net/download-notebook/8956e37db86c44b3b1b3a4c3357e590c\n",
      "Scikit-Learn 패키지의 샘플 데이터 사용법.ipynb https://datascienceschool.net/download-notebook/e6bd77468ab345639c6ecccf4a24a838\n",
      "Keras 패키지를 사용한 신경망 구현.ipynb https://datascienceschool.net/download-notebook/51e147088d474fe1bf32e394394eaea7\n",
      "디리클레 분포.ipynb https://datascienceschool.net/download-notebook/e0508d3b7dd6427eba2d35e1f629d3de\n"
     ]
    }
   ],
   "source": [
    "for i in downdict:\n",
    "    print('{}.ipynb'.format(re.sub(r'\\n  ', r'', re.sub(r'\\n    ', r'',i))), \n",
    "          re.sub(r'view', r'download', downdict[i]))\n",
    "    \n",
    "    with open('{}.ipynb'.format(re.sub(r'\\n  ', r'', re.sub(r'\\n    ', r'',i))), 'wb') as f:\n",
    "        f.write(requests.get(re.sub(r'view', r'download', downdict[i])).content)"
   ]
  },
  {
   "cell_type": "code",
   "execution_count": null,
   "metadata": {
    "collapsed": true
   },
   "outputs": [],
   "source": []
  },
  {
   "cell_type": "code",
   "execution_count": null,
   "metadata": {
    "collapsed": true
   },
   "outputs": [],
   "source": []
  },
  {
   "cell_type": "code",
   "execution_count": null,
   "metadata": {
    "collapsed": true
   },
   "outputs": [],
   "source": []
  },
  {
   "cell_type": "code",
   "execution_count": null,
   "metadata": {
    "collapsed": true
   },
   "outputs": [],
   "source": []
  },
  {
   "cell_type": "code",
   "execution_count": null,
   "metadata": {
    "collapsed": true
   },
   "outputs": [],
   "source": []
  },
  {
   "cell_type": "code",
   "execution_count": null,
   "metadata": {
    "collapsed": true
   },
   "outputs": [],
   "source": []
  },
  {
   "cell_type": "code",
   "execution_count": null,
   "metadata": {
    "collapsed": true
   },
   "outputs": [],
   "source": []
  },
  {
   "cell_type": "code",
   "execution_count": null,
   "metadata": {
    "collapsed": true
   },
   "outputs": [],
   "source": []
  },
  {
   "cell_type": "code",
   "execution_count": null,
   "metadata": {
    "collapsed": true
   },
   "outputs": [],
   "source": []
  },
  {
   "cell_type": "code",
   "execution_count": null,
   "metadata": {
    "collapsed": true
   },
   "outputs": [],
   "source": []
  }
 ],
 "metadata": {
  "kernelspec": {
   "display_name": "Python 3",
   "language": "python",
   "name": "python3"
  },
  "language_info": {
   "codemirror_mode": {
    "name": "ipython",
    "version": 3
   },
   "file_extension": ".py",
   "mimetype": "text/x-python",
   "name": "python",
   "nbconvert_exporter": "python",
   "pygments_lexer": "ipython3",
   "version": "3.5.3"
  }
 },
 "nbformat": 4,
 "nbformat_minor": 2
}
